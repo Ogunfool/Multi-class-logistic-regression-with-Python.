{
  "nbformat": 4,
  "nbformat_minor": 0,
  "metadata": {
    "colab": {
      "provenance": [],
      "authorship_tag": "ABX9TyNExLzvevjWdzWOlipqatiD",
      "include_colab_link": true
    },
    "kernelspec": {
      "name": "python3",
      "display_name": "Python 3"
    },
    "language_info": {
      "name": "python"
    }
  },
  "cells": [
    {
      "cell_type": "markdown",
      "metadata": {
        "id": "view-in-github",
        "colab_type": "text"
      },
      "source": [
        "<a href=\"https://colab.research.google.com/github/Ogunfool/Multi-class-logistic-regression-with-Python./blob/main/MNIST_datset_with_other_classifiers.ipynb\" target=\"_parent\"><img src=\"https://colab.research.google.com/assets/colab-badge.svg\" alt=\"Open In Colab\"/></a>"
      ]
    },
    {
      "cell_type": "code",
      "source": [
        "!pip uninstall scikit-learn -y\n",
        "\n",
        "!pip install -U scikit-learn"
      ],
      "metadata": {
        "id": "EreSICvJR_5X"
      },
      "execution_count": null,
      "outputs": []
    },
    {
      "cell_type": "code",
      "execution_count": null,
      "metadata": {
        "id": "CnuQpDOqCfVI"
      },
      "outputs": [],
      "source": [
        "from google.colab import files\n",
        "import numpy as np\n",
        "import pandas as pd\n",
        "import matplotlib.pyplot as plt\n",
        "from sklearn.metrics import accuracy_score, confusion_matrix, classification_report, log_loss\n",
        "from sklearn.linear_model import LogisticRegression, SGDClassifier\n",
        "from sklearn.neighbors import KNeighborsClassifier\n",
        "from sklearn.model_selection import train_test_split, KFold, cross_val_score, GridSearchCV, RandomizedSearchCV, StratifiedKFold\n",
        "from sklearn.preprocessing import StandardScaler\n",
        "from sklearn.pipeline import Pipeline\n",
        "from sklearn.impute import SimpleImputer\n",
        "from sklearn.tree import DecisionTreeClassifier"
      ]
    },
    {
      "cell_type": "code",
      "execution_count": null,
      "metadata": {
        "id": "NE1eFUmhC7WY"
      },
      "outputs": [],
      "source": [
        "train_load = np.loadtxt(\"mnist_train_small.csv\", delimiter = \",\")\n",
        "test_load = np.loadtxt(\"mnist_test.csv\", delimiter = \",\")"
      ]
    },
    {
      "cell_type": "code",
      "execution_count": null,
      "metadata": {
        "colab": {
          "base_uri": "https://localhost:8080/"
        },
        "id": "Nx8u3NbSGL_n",
        "outputId": "10a18c1e-c10c-4d70-a4ad-f8cdfa1bb946"
      },
      "outputs": [
        {
          "name": "stdout",
          "output_type": "stream",
          "text": [
            "(20000, 785) (10000, 785)\n"
          ]
        }
      ],
      "source": [
        "print(train_load.shape, test_load.shape)"
      ]
    },
    {
      "cell_type": "code",
      "execution_count": null,
      "metadata": {
        "id": "ly74uO5TFzYr"
      },
      "outputs": [],
      "source": [
        "X_train , y_train = train_load[:,1:], train_load[:,0]\n",
        "X_test , y_test = test_load[:,1:], test_load[:,0]"
      ]
    },
    {
      "cell_type": "code",
      "execution_count": null,
      "metadata": {
        "id": "vSLRQK26GSOF"
      },
      "outputs": [],
      "source": [
        "print(X_train.shape, y_train.shape)\n",
        "print(X_test.shape, y_test.shape)\n",
        "print(type(train_load))\n",
        "print(type(test_load))"
      ]
    },
    {
      "cell_type": "code",
      "execution_count": null,
      "metadata": {
        "id": "qJDnBUv_HUuF"
      },
      "outputs": [],
      "source": [
        "# Normalize data\n",
        "data_normalize = StandardScaler()\n",
        "X_train_norm = data_normalize.fit_transform(X_train)\n",
        "X_test_norm = data_normalize.transform(X_test)"
      ]
    },
    {
      "cell_type": "code",
      "execution_count": null,
      "metadata": {
        "id": "foRrnC2AKVpq"
      },
      "outputs": [],
      "source": [
        "# print(X_train_norm, X_test_norm)"
      ]
    },
    {
      "cell_type": "code",
      "execution_count": null,
      "metadata": {
        "id": "H6QMzNuWKcGY"
      },
      "outputs": [],
      "source": [
        "# Observation: Don't call your data X_train and X_test yet till you load, clean, preprocess\n",
        "# (Just do all the transformations necessary and it is ready for use)\n",
        "X_train = X_train_norm\n",
        "X_test = X_test_norm"
      ]
    },
    {
      "cell_type": "markdown",
      "source": [
        "Trying 3 different models (DecisionTree, Logistic Regression, KNeighbors Classifier)."
      ],
      "metadata": {
        "id": "zSTIa2vgDPfx"
      }
    },
    {
      "cell_type": "code",
      "execution_count": null,
      "metadata": {
        "id": "wYL6MWyPLEXZ"
      },
      "outputs": [],
      "source": [
        "models = {\"Logistic Regression\": LogisticRegression(),\n",
        "          \"KNN\": KNeighborsClassifier(),\n",
        "          \"Decision Tree\": DecisionTreeClassifier()}\n",
        "\n",
        "results = []\n",
        "for model in models.values():\n",
        "  KF = KFold(n_splits = 5, random_state=42, shuffle=True)\n",
        "  cv_results = cross_val_score(model,X_train,y_train,cv=KF)\n",
        "  results.append(cv_results)\n",
        "print(\"Model Selection Results_No pipeline:\", results)\n",
        "plt.boxplot(results, labels=models.keys())\n",
        "plt.show()\n"
      ]
    },
    {
      "cell_type": "code",
      "execution_count": null,
      "metadata": {
        "colab": {
          "base_uri": "https://localhost:8080/"
        },
        "id": "AMZwt7p0SEvK",
        "outputId": "0d6da146-044b-407f-c359-c0e9d85c69ec"
      },
      "outputs": [
        {
          "name": "stdout",
          "output_type": "stream",
          "text": [
            "[0.88795, 0.92235, 0.8280999999999998]\n"
          ]
        }
      ],
      "source": [
        "#  From the box plot, we can see that KNN is doing better on the validation set.\n",
        "#  So we optimize it further.\n",
        "average_scores = []\n",
        "for n in results:\n",
        "  average_scores.append(np.mean(n))\n",
        "print(average_scores)"
      ]
    },
    {
      "cell_type": "code",
      "execution_count": null,
      "metadata": {
        "id": "qQscaW50T-EI"
      },
      "outputs": [],
      "source": [
        "# Lets see how KNN behaves on the test set\n",
        "for name, model in models.items():\n",
        "  model.fit(X_train, y_train)\n",
        "  test_score = model.score(X_test, y_test)\n",
        "  print(\"{} Test Set Accuracy: {}\".format(name, test_score))"
      ]
    },
    {
      "cell_type": "markdown",
      "metadata": {
        "id": "meoGyPX7AYam"
      },
      "source": [
        "PART B - Logistic regression on full MNIST dataset"
      ]
    },
    {
      "cell_type": "code",
      "execution_count": null,
      "metadata": {
        "colab": {
          "base_uri": "https://localhost:8080/"
        },
        "id": "SfHoYg9sAdWH",
        "outputId": "1238baab-ad17-4883-9af8-f60212e1a622"
      },
      "outputs": [
        {
          "output_type": "stream",
          "name": "stdout",
          "text": [
            "CPU times: user 29.3 s, sys: 2.48 s, total: 31.8 s\n",
            "Wall time: 47.9 s\n"
          ]
        }
      ],
      "source": [
        "%%time\n",
        "from sklearn.datasets import fetch_openml\n",
        "mnist = fetch_openml(data_id=554) # https://www.openml.org/d/554"
      ]
    },
    {
      "cell_type": "code",
      "execution_count": null,
      "metadata": {
        "colab": {
          "base_uri": "https://localhost:8080/"
        },
        "id": "YFTaOWMnA_Mx",
        "outputId": "00db287a-6f32-45bc-8568-4374f0afd18f"
      },
      "outputs": [
        {
          "data": {
            "text/plain": [
              "(pandas.core.frame.DataFrame, NoneType, list, pandas.core.series.Series)"
            ]
          },
          "execution_count": 3,
          "metadata": {},
          "output_type": "execute_result"
        }
      ],
      "source": [
        "type(mnist.data), type(mnist.categories), type(mnist.feature_names), type(mnist.target)"
      ]
    },
    {
      "cell_type": "code",
      "execution_count": null,
      "metadata": {
        "colab": {
          "base_uri": "https://localhost:8080/"
        },
        "id": "lqctiSsnBBG1",
        "outputId": "a51be3c3-5299-4c60-be2f-4b2f9d640cff"
      },
      "outputs": [
        {
          "output_type": "execute_result",
          "data": {
            "text/plain": [
              "((70000, 784), (70000,))"
            ]
          },
          "metadata": {},
          "execution_count": 4
        }
      ],
      "source": [
        "mnist.data.shape, mnist.target.shape"
      ]
    },
    {
      "cell_type": "code",
      "execution_count": null,
      "metadata": {
        "id": "EFXtOOx8Btiy"
      },
      "outputs": [],
      "source": [
        "Xtemp_train, X_test, ytemp_train, y_test = train_test_split(mnist.data, \n",
        "                                                    mnist.target.astype('int'), #targets str to int convert\n",
        "                                                   test_size=1/7.0,\n",
        "                                                   random_state=0)"
      ]
    },
    {
      "cell_type": "code",
      "execution_count": null,
      "metadata": {
        "id": "DgDvX1tdBfaQ"
      },
      "outputs": [],
      "source": [
        "# Set shuffle to true to shuffle before split\n",
        "X_train, X_val, y_train, y_val = train_test_split(Xtemp_train, ytemp_train, test_size = 0.2, random_state = 42, shuffle=True)"
      ]
    },
    {
      "cell_type": "code",
      "execution_count": null,
      "metadata": {
        "colab": {
          "base_uri": "https://localhost:8080/",
          "height": 336
        },
        "id": "YKtL-RA4ZR_d",
        "outputId": "60b01577-b2c2-4f1c-c93d-395933041346"
      },
      "outputs": [
        {
          "data": {
            "image/png": "[encoded data removed]",
            "text/plain": [
              "<Figure size 720x360 with 3 Axes>"
            ]
          },
          "metadata": {},
          "output_type": "display_data"
        }
      ],
      "source": [
        "plt.figure(figsize=(10,5))\n",
        "plt.subplot(1,3,1)\n",
        "plt.hist(y_train);\n",
        "plt.title('Frequency of different classes - Training data');\n",
        "\n",
        "plt.subplot(1,3,2)\n",
        "plt.hist(y_val);\n",
        "plt.title('Frequency of different classes - Validation data');\n",
        "\n",
        "plt.subplot(1,3,3)\n",
        "plt.hist(y_test);\n",
        "plt.title('Frequency of different classes - Test data');"
      ]
    },
    {
      "cell_type": "code",
      "execution_count": null,
      "metadata": {
        "id": "M9bmzQZa0B53"
      },
      "outputs": [],
      "source": [
        "# Let's normalize data - StandardScaler\n",
        "# Fit t0 training set and use mean and std to transform X_train and X_test\n",
        "scaler = StandardScaler().fit(X_train)\n",
        "X_train_scaled = scaler.transform(X_train)\n",
        "X_val_scaled = scaler.transform(X_val)\n",
        "X_test_scaled = scaler.transform(X_test)"
      ]
    },
    {
      "cell_type": "code",
      "execution_count": null,
      "metadata": {
        "colab": {
          "base_uri": "https://localhost:8080/"
        },
        "id": "nyn2vAG-NoZ7",
        "outputId": "6e67ebf6-8516-4a8d-b5e5-4b3fe8d6ecde"
      },
      "outputs": [
        {
          "output_type": "stream",
          "name": "stdout",
          "text": [
            "(48000, 784) (12000, 784) (10000, 784)\n"
          ]
        }
      ],
      "source": [
        "print(X_train_scaled.shape, X_val_scaled.shape, X_test_scaled.shape)"
      ]
    },
    {
      "cell_type": "markdown",
      "metadata": {
        "id": "bF1QSbUaDUux"
      },
      "source": [
        "\n",
        "1.   The sklearn.linear_model.LogisticRegression solver, SAGA - Stochastic Average Gradient descent does not need learning rate.\n",
        "\n"
      ]
    },
    {
      "cell_type": "code",
      "execution_count": null,
      "metadata": {
        "colab": {
          "base_uri": "https://localhost:8080/"
        },
        "id": "aLtmyWQEYPtI",
        "outputId": "d49576b9-7768-40f8-f65d-58a62d697c79"
      },
      "outputs": [
        {
          "data": {
            "text/plain": [
              "LogisticRegression(C=1000, max_iter=2000, n_jobs=5, solver='saga', tol=0.001,\n",
              "                   verbose=2)"
            ]
          },
          "execution_count": 14,
          "metadata": {},
          "output_type": "execute_result"
        }
      ],
      "source": [
        "log_reg_classifier = LogisticRegression(fit_intercept=True,\n",
        "                        multi_class='auto',\n",
        "                        penalty='l2', #Ridge regression\n",
        "                        solver='saga',\n",
        "                        max_iter=200,\n",
        "                        C=1000,\n",
        "                        verbose=2, # output progress\n",
        "                        n_jobs=5, # parallelize over 5 processes\n",
        "                        tol=0.001\n",
        "                         )\n",
        "log_reg_classifier"
      ]
    },
    {
      "cell_type": "code",
      "execution_count": null,
      "metadata": {
        "colab": {
          "base_uri": "https://localhost:8080/"
        },
        "id": "NqQR2TcyYSnj",
        "outputId": "53c195e6-1fc1-48c1-f18a-3f00cd84df08"
      },
      "outputs": [
        {
          "name": "stderr",
          "output_type": "stream",
          "text": [
            "[Parallel(n_jobs=5)]: Using backend ThreadingBackend with 5 concurrent workers.\n"
          ]
        },
        {
          "name": "stdout",
          "output_type": "stream",
          "text": [
            "convergence after 525 epochs took 1194 seconds\n",
            "CPU times: user 18min 58s, sys: 1.19 s, total: 19min\n",
            "Wall time: 19min 54s\n"
          ]
        },
        {
          "name": "stderr",
          "output_type": "stream",
          "text": [
            "[Parallel(n_jobs=5)]: Done   1 out of   1 | elapsed: 19.9min finished\n"
          ]
        },
        {
          "data": {
            "text/plain": [
              "LogisticRegression(C=1000, max_iter=2000, n_jobs=5, solver='saga', tol=0.001,\n",
              "                   verbose=2)"
            ]
          },
          "execution_count": 15,
          "metadata": {},
          "output_type": "execute_result"
        }
      ],
      "source": [
        "%%time\n",
        "log_reg_classifier.fit(X_train_scaled, y_train)"
      ]
    },
    {
      "cell_type": "code",
      "execution_count": null,
      "metadata": {
        "colab": {
          "base_uri": "https://localhost:8080/"
        },
        "id": "5qOaZt8OMPZ1",
        "outputId": "078d4345-7cb5-4117-a2aa-d8ec2e6d2620"
      },
      "outputs": [
        {
          "data": {
            "text/plain": [
              "0.9355"
            ]
          },
          "execution_count": 16,
          "metadata": {},
          "output_type": "execute_result"
        }
      ],
      "source": [
        "log_reg_classifier.score(X_train_scaled, y_train)"
      ]
    },
    {
      "cell_type": "code",
      "execution_count": null,
      "metadata": {
        "colab": {
          "base_uri": "https://localhost:8080/"
        },
        "id": "IGOamG6SMQWv",
        "outputId": "2b202870-e41e-48f5-ba6b-1d400a1b5bc4"
      },
      "outputs": [
        {
          "data": {
            "text/plain": [
              "0.9243333333333333"
            ]
          },
          "execution_count": 17,
          "metadata": {},
          "output_type": "execute_result"
        }
      ],
      "source": [
        "log_reg_classifier.score(X_val_scaled, y_val)"
      ]
    },
    {
      "cell_type": "markdown",
      "metadata": {
        "id": "sULERcxRbbaF"
      },
      "source": [
        "Let's select our model using cross validation and Gridsearch - GridCV in Sklearn. Note that after choosing the best hyperparameters, the CV models are discarded and the final model is trained with those hyperparameters.\n",
        "\n"
      ]
    },
    {
      "cell_type": "code",
      "execution_count": null,
      "metadata": {
        "id": "I_3ZMOqaRSRp"
      },
      "outputs": [],
      "source": [
        "KF = StratifiedKFold(n_splits = 3, random_state=42, shuffle=True)\n",
        "param_grid = {'penalty':['l2'],\n",
        "              'C': [1000,100,10],}\n",
        "# Model\n",
        "log_reg = LogisticRegression(fit_intercept=True,\n",
        "                        multi_class='auto',\n",
        "                        # penalty='l2', #Ridge regression\n",
        "                        solver='saga',\n",
        "                        max_iter=400,\n",
        "                        verbose=2, # output progress\n",
        "                        n_jobs=8, # parallelize over 5 processes\n",
        "                        tol=0.01\n",
        "                         )\n",
        "log_reg_GridCV = GridSearchCV(log_reg, param_grid, cv= KF)"
      ]
    },
    {
      "cell_type": "code",
      "execution_count": null,
      "metadata": {
        "id": "jz0j39nae3N_"
      },
      "outputs": [],
      "source": [
        "log_reg_GridCV.fit(X_train_scaled, y_train)"
      ]
    },
    {
      "cell_type": "code",
      "execution_count": null,
      "metadata": {
        "id": "cLLZC0MdjxuE"
      },
      "outputs": [],
      "source": [
        "log_reg_GridCV.get_params().keys()"
      ]
    },
    {
      "cell_type": "code",
      "execution_count": null,
      "metadata": {
        "colab": {
          "base_uri": "https://localhost:8080/"
        },
        "id": "O_RrNdg6fGD4",
        "outputId": "c5591541-564f-4d05-dd48-14a2fca1902c"
      },
      "outputs": [
        {
          "data": {
            "text/plain": [
              "{'C': 10, 'penalty': 'l2'}"
            ]
          },
          "execution_count": 42,
          "metadata": {},
          "output_type": "execute_result"
        }
      ],
      "source": [
        "log_reg_GridCV.best_params_"
      ]
    },
    {
      "cell_type": "code",
      "execution_count": null,
      "metadata": {
        "colab": {
          "base_uri": "https://localhost:8080/"
        },
        "id": "_CZ1HzJqfNK9",
        "outputId": "c214e5e3-72f9-4df5-9308-4805c861cdc4"
      },
      "outputs": [
        {
          "data": {
            "text/plain": [
              "0.90645"
            ]
          },
          "execution_count": 43,
          "metadata": {},
          "output_type": "execute_result"
        }
      ],
      "source": [
        "log_reg_GridCV.best_score_"
      ]
    },
    {
      "cell_type": "markdown",
      "metadata": {
        "id": "HRUTFeHaotWn"
      },
      "source": [
        "Now train final model"
      ]
    },
    {
      "cell_type": "code",
      "execution_count": null,
      "metadata": {
        "colab": {
          "base_uri": "https://localhost:8080/"
        },
        "id": "nnNMnm6eoe7u",
        "outputId": "ad19de39-725a-4e0a-e9a4-f20d74b42737"
      },
      "outputs": [
        {
          "data": {
            "text/plain": [
              "LogisticRegression(C=10, max_iter=2000, n_jobs=5, solver='saga', tol=0.001,\n",
              "                   verbose=2)"
            ]
          },
          "execution_count": 44,
          "metadata": {},
          "output_type": "execute_result"
        }
      ],
      "source": [
        "log_reg_classifier = LogisticRegression(fit_intercept=True,\n",
        "                        multi_class='auto',\n",
        "                        penalty='l2', #Ridge regression\n",
        "                        solver='saga',\n",
        "                        max_iter=2000,\n",
        "                        C=10,\n",
        "                        verbose=2, # output progress\n",
        "                        n_jobs=5, # parallelize over 5 processes\n",
        "                        tol=0.001\n",
        "                         )\n",
        "log_reg_classifier"
      ]
    },
    {
      "cell_type": "code",
      "execution_count": null,
      "metadata": {
        "colab": {
          "base_uri": "https://localhost:8080/"
        },
        "id": "hsdtPpoRo0sx",
        "outputId": "95d4b527-f021-4744-d6f8-ce757b557790"
      },
      "outputs": [
        {
          "name": "stderr",
          "output_type": "stream",
          "text": [
            "[Parallel(n_jobs=5)]: Using backend ThreadingBackend with 5 concurrent workers.\n"
          ]
        },
        {
          "name": "stdout",
          "output_type": "stream",
          "text": [
            "convergence after 512 epochs took 1278 seconds\n",
            "CPU times: user 21min 19s, sys: 784 ms, total: 21min 19s\n",
            "Wall time: 21min 18s\n"
          ]
        },
        {
          "name": "stderr",
          "output_type": "stream",
          "text": [
            "[Parallel(n_jobs=5)]: Done   1 out of   1 | elapsed: 21.3min finished\n"
          ]
        },
        {
          "data": {
            "text/plain": [
              "LogisticRegression(C=10, max_iter=2000, n_jobs=5, solver='saga', tol=0.001,\n",
              "                   verbose=2)"
            ]
          },
          "execution_count": 45,
          "metadata": {},
          "output_type": "execute_result"
        }
      ],
      "source": [
        "%%time\n",
        "log_reg_classifier.fit(X_train_scaled, y_train)"
      ]
    },
    {
      "cell_type": "code",
      "execution_count": null,
      "metadata": {
        "colab": {
          "base_uri": "https://localhost:8080/"
        },
        "id": "Qo-xk_xIo-kq",
        "outputId": "2de067ec-9bdc-498e-f35c-c6ad5256d56d"
      },
      "outputs": [
        {
          "data": {
            "text/plain": [
              "0.9188"
            ]
          },
          "execution_count": 47,
          "metadata": {},
          "output_type": "execute_result"
        }
      ],
      "source": [
        "log_reg_classifier.score(X_test_scaled, y_test)"
      ]
    }
  ]
}