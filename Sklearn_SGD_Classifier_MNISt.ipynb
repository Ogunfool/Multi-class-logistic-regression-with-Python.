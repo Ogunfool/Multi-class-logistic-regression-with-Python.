{
  "nbformat": 4,
  "nbformat_minor": 0,
  "metadata": {
    "colab": {
      "provenance": [],
      "authorship_tag": "ABX9TyNSK+93oXvtYAOszHJ/MS/p",
      "include_colab_link": true
    },
    "kernelspec": {
      "name": "python3",
      "display_name": "Python 3"
    },
    "language_info": {
      "name": "python"
    },
    "accelerator": "GPU",
    "gpuClass": "standard"
  },
  "cells": [
    {
      "cell_type": "markdown",
      "metadata": {
        "id": "view-in-github",
        "colab_type": "text"
      },
      "source": [
        "<a href=\"https://colab.research.google.com/github/Ogunfool/Multi-class-logistic-regression-with-Python./blob/main/Sklearn_SGD_Classifier_MNISt.ipynb\" target=\"_parent\"><img src=\"https://colab.research.google.com/assets/colab-badge.svg\" alt=\"Open In Colab\"/></a>"
      ]
    },
    {
      "cell_type": "markdown",
      "source": [
        "Using Scikit learn SGDClassifier Class (Logistic regression + Log Loss)."
      ],
      "metadata": {
        "id": "YtSKQFbR1qI2"
      }
    },
    {
      "cell_type": "code",
      "execution_count": 1,
      "metadata": {
        "id": "CnuQpDOqCfVI"
      },
      "outputs": [],
      "source": [
        "from google.colab import files\n",
        "import numpy as np\n",
        "import pandas as pd\n",
        "import matplotlib.pyplot as plt\n",
        "from sklearn.metrics import accuracy_score, confusion_matrix, classification_report, log_loss\n",
        "from sklearn.linear_model import LogisticRegression, SGDClassifier\n",
        "from sklearn.neighbors import KNeighborsClassifier\n",
        "from sklearn.model_selection import train_test_split, KFold, cross_val_score, GridSearchCV, RandomizedSearchCV, StratifiedKFold\n",
        "from sklearn.preprocessing import StandardScaler\n",
        "from sklearn.pipeline import Pipeline\n",
        "from sklearn.impute import SimpleImputer\n",
        "from sklearn.tree import DecisionTreeClassifier"
      ]
    },
    {
      "cell_type": "code",
      "execution_count": null,
      "metadata": {
        "id": "SfHoYg9sAdWH"
      },
      "outputs": [],
      "source": [
        "%%time\n",
        "from sklearn.datasets import fetch_openml\n",
        "mnist = fetch_openml(data_id=554) # https://www.openml.org/d/554"
      ]
    },
    {
      "cell_type": "code",
      "execution_count": 3,
      "metadata": {
        "colab": {
          "base_uri": "https://localhost:8080/"
        },
        "id": "YFTaOWMnA_Mx",
        "outputId": "4817fc0b-b2d0-4f56-f65d-81bf684256c2"
      },
      "outputs": [
        {
          "output_type": "execute_result",
          "data": {
            "text/plain": [
              "(pandas.core.frame.DataFrame, NoneType, list, pandas.core.series.Series)"
            ]
          },
          "metadata": {},
          "execution_count": 3
        }
      ],
      "source": [
        "type(mnist.data), type(mnist.categories), type(mnist.feature_names), type(mnist.target)"
      ]
    },
    {
      "cell_type": "code",
      "execution_count": 4,
      "metadata": {
        "colab": {
          "base_uri": "https://localhost:8080/"
        },
        "id": "lqctiSsnBBG1",
        "outputId": "d068ee97-5036-4f9c-8bc4-df164733f7e5"
      },
      "outputs": [
        {
          "output_type": "execute_result",
          "data": {
            "text/plain": [
              "((70000, 784), (70000,))"
            ]
          },
          "metadata": {},
          "execution_count": 4
        }
      ],
      "source": [
        "mnist.data.shape, mnist.target.shape"
      ]
    },
    {
      "cell_type": "code",
      "execution_count": 3,
      "metadata": {
        "id": "EFXtOOx8Btiy"
      },
      "outputs": [],
      "source": [
        "Xtemp_train, X_test, ytemp_train, y_test = train_test_split(mnist.data, \n",
        "                                                    mnist.target.astype('int'), #targets str to int convert\n",
        "                                                   test_size=1/7.0,\n",
        "                                                   random_state=0)"
      ]
    },
    {
      "cell_type": "code",
      "execution_count": 4,
      "metadata": {
        "id": "DgDvX1tdBfaQ"
      },
      "outputs": [],
      "source": [
        "# Set shuffle to true to shuffle before split\n",
        "X_train, X_val, y_train, y_val = train_test_split(Xtemp_train, ytemp_train, test_size = 0.2, random_state = 42, shuffle=True)"
      ]
    },
    {
      "cell_type": "code",
      "execution_count": 5,
      "metadata": {
        "colab": {
          "base_uri": "https://localhost:8080/",
          "height": 336
        },
        "id": "YKtL-RA4ZR_d",
        "outputId": "0cf86e79-570b-42d0-a8f9-9407454ed551"
      },
      "outputs": [
        {
          "output_type": "display_data",
          "data": {
            "text/plain": [
              "<Figure size 720x360 with 3 Axes>"
            ],
            "image/png": "[encoded data removed]"
          },
          "metadata": {
            "needs_background": "light"
          }
        }
      ],
      "source": [
        "plt.figure(figsize=(10,5))\n",
        "plt.subplot(1,3,1)\n",
        "plt.hist(y_train);\n",
        "plt.title('Frequency of different classes - Training data');\n",
        "\n",
        "plt.subplot(1,3,2)\n",
        "plt.hist(y_val);\n",
        "plt.title('Frequency of different classes - Validation data');\n",
        "\n",
        "plt.subplot(1,3,3)\n",
        "plt.hist(y_test);\n",
        "plt.title('Frequency of different classes - Test data');"
      ]
    },
    {
      "cell_type": "code",
      "execution_count": 6,
      "metadata": {
        "id": "M9bmzQZa0B53"
      },
      "outputs": [],
      "source": [
        "# Let's normalize data - StandardScaler\n",
        "# Fit t0 training set and use mean and std to transform X_train and X_test\n",
        "scaler = StandardScaler().fit(X_train)\n",
        "X_train_scaled = scaler.transform(X_train)\n",
        "X_val_scaled = scaler.transform(X_val)\n",
        "X_test_scaled = scaler.transform(X_test)"
      ]
    },
    {
      "cell_type": "code",
      "execution_count": 7,
      "metadata": {
        "colab": {
          "base_uri": "https://localhost:8080/"
        },
        "id": "nyn2vAG-NoZ7",
        "outputId": "2032d328-e610-4c3e-9b6d-801229866863"
      },
      "outputs": [
        {
          "output_type": "stream",
          "name": "stdout",
          "text": [
            "(48000, 784) (12000, 784) (10000, 784)\n"
          ]
        }
      ],
      "source": [
        "print(X_train_scaled.shape, X_val_scaled.shape, X_test_scaled.shape)"
      ]
    },
    {
      "cell_type": "markdown",
      "metadata": {
        "id": "sULERcxRbbaF"
      },
      "source": [
        "Let's select our model using cross validation and Gridsearch - GridCV in Sklearn. Note that after choosing the best hyperparameters, the CV models are discarded and the final model is trained with those hyperparameters.\n",
        "\n"
      ]
    },
    {
      "cell_type": "markdown",
      "metadata": {
        "id": "rTe5IlabqIMt"
      },
      "source": [
        "Use SGD Classifier to compare results with mine."
      ]
    },
    {
      "cell_type": "code",
      "execution_count": 10,
      "metadata": {
        "id": "MU7AbvVCqUFV"
      },
      "outputs": [],
      "source": [
        "KF = StratifiedKFold(n_splits = 3, random_state=42, shuffle=True)\n",
        "param_grid = {'eta0': [0.001, 0.003, 0.01, 0.03, 0.1, 0.3],\n",
        "              'penalty':['l2'],\n",
        "              'alpha': [0.001, 0.003, 0.01, 0.03, 0.1, 0.3]}\n",
        "SGD_classifier = SGDClassifier(fit_intercept=True,\n",
        "                        max_iter=200,\n",
        "                        verbose=2, # output progress\n",
        "                        n_jobs=5, # parallelize over 5 processes\n",
        "                        tol=0.001\n",
        "                         )\n",
        "\n",
        "SGD_classifierGridCV = GridSearchCV(SGD_classifier, param_grid, cv= KF)"
      ]
    },
    {
      "cell_type": "code",
      "execution_count": null,
      "metadata": {
        "id": "NW7Ix8p8rpL6"
      },
      "outputs": [],
      "source": [
        "%%time\n",
        "SGD_classifierGridCV.fit(X_train_scaled, y_train)"
      ]
    },
    {
      "cell_type": "code",
      "execution_count": null,
      "metadata": {
        "id": "jViLvHH4ruCx",
        "colab": {
          "base_uri": "https://localhost:8080/"
        },
        "outputId": "1cf3069f-61a8-4483-fb4c-00d093a3f0c2"
      },
      "outputs": [
        {
          "output_type": "execute_result",
          "data": {
            "text/plain": [
              "{'alpha': 0.001, 'eta0': 0.003, 'penalty': 'l2'}"
            ]
          },
          "metadata": {},
          "execution_count": 65
        }
      ],
      "source": [
        "# klearn got the same best hyperparameters as our OOP-python based model\n",
        "SGD_classifierGridCV.best_params_"
      ]
    },
    {
      "cell_type": "code",
      "execution_count": null,
      "metadata": {
        "id": "gt_QGd31r0hC",
        "colab": {
          "base_uri": "https://localhost:8080/"
        },
        "outputId": "34133323-4c4f-43f6-c2e7-b9c1e603ccd0"
      },
      "outputs": [
        {
          "output_type": "execute_result",
          "data": {
            "text/plain": [
              "0.9080833333333334"
            ]
          },
          "metadata": {},
          "execution_count": 66
        }
      ],
      "source": [
        "SGD_classifierGridCV.best_score_"
      ]
    },
    {
      "cell_type": "markdown",
      "source": [
        "I want to compare these results with mine.\n",
        "I got 83% accuracy while sklearn got 91% - Using the SGDClassifier, log loss function."
      ],
      "metadata": {
        "id": "DiCDqtCFM2Jt"
      }
    },
    {
      "cell_type": "code",
      "source": [
        "SGD_classifier_final = SGDClassifier(fit_intercept=True,\n",
        "                        loss = 'log',\n",
        "                        eta0=0.003,\n",
        "                        alpha=0.001,\n",
        "                        max_iter=200,\n",
        "                        verbose=2, # output progress\n",
        "                        n_jobs=5, # parallelize over 5 processes\n",
        "                        tol=0.001\n",
        "                         )"
      ],
      "metadata": {
        "id": "v0vDbWQ-Jjv-"
      },
      "execution_count": 10,
      "outputs": []
    },
    {
      "cell_type": "code",
      "source": [
        "SGD_classifier_final.fit(X_train_scaled, y_train)"
      ],
      "metadata": {
        "id": "m0kIjwpWKYJY"
      },
      "execution_count": null,
      "outputs": []
    },
    {
      "cell_type": "code",
      "source": [
        "SGD_classifier_final.score(X_val_scaled, y_val)"
      ],
      "metadata": {
        "colab": {
          "base_uri": "https://localhost:8080/"
        },
        "id": "LT3Z-I0PKrMy",
        "outputId": "50ded32e-2379-4000-f291-862a8ca96b32"
      },
      "execution_count": 12,
      "outputs": [
        {
          "output_type": "execute_result",
          "data": {
            "text/plain": [
              "0.9081666666666667"
            ]
          },
          "metadata": {},
          "execution_count": 12
        }
      ]
    },
    {
      "cell_type": "code",
      "source": [
        "SGD_classifier_final.intercept_.shape"
      ],
      "metadata": {
        "colab": {
          "base_uri": "https://localhost:8080/"
        },
        "id": "10S7M7LUfwvA",
        "outputId": "361b63f6-e4c5-4a1f-fed1-8c0ea0a3dcad"
      },
      "execution_count": null,
      "outputs": [
        {
          "output_type": "execute_result",
          "data": {
            "text/plain": [
              "(10,)"
            ]
          },
          "metadata": {},
          "execution_count": 17
        }
      ]
    },
    {
      "cell_type": "code",
      "source": [
        "SGD_classifier_final.coef_.shape"
      ],
      "metadata": {
        "colab": {
          "base_uri": "https://localhost:8080/"
        },
        "id": "gEUNp8hvgg6T",
        "outputId": "2584648d-c936-47d8-dbc3-790e9925959a"
      },
      "execution_count": 13,
      "outputs": [
        {
          "output_type": "execute_result",
          "data": {
            "text/plain": [
              "(10, 784)"
            ]
          },
          "metadata": {},
          "execution_count": 13
        }
      ]
    }
  ]
}